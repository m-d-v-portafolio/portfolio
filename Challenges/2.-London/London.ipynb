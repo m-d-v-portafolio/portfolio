{
 "cells": [
  {
   "cell_type": "markdown",
   "id": "06ede647-f362-4dd6-b17a-84270e5dd2fb",
   "metadata": {},
   "source": [
    "# Introduction\n",
    "\n",
    "London, or as the Romans called it \"Londonium\"! Home to [over 8.5 million residents](https://www.ons.gov.uk/peoplepopulationandcommunity/populationandmigration/populationestimates/bulletins/populationandhouseholdestimatesenglandandwales/census2021unroundeddata#population-and-household-estimates-england-and-wales-data) who speak over [300 languages](https://web.archive.org/web/20080924084621/http://www.cilt.org.uk/faqs/langspoken.htm). While the City of London is a little over one square mile (hence its nickname \"The Square Mile\"), Greater London has grown to encompass 32 boroughs spanning a total area of 606 square miles! \n",
    "\n",
    "Given the city's roads were originally designed for horse and cart, this area and population growth has required the development of an efficient public transport system! Since the year 2000, this has been through the local government body called **Transport for London**, or *TfL*, which is managed by the London Mayor's office. Their remit covers the London Underground, Overground, Docklands Light Railway (DLR), buses, trams, river services (clipper and [Emirates Airline cable car](https://en.wikipedia.org/wiki/London_cable_car)), roads, and even taxis.\n",
    "\n",
    "The Mayor of London's office make their data available to the public [here](https://data.london.gov.uk/dataset). In this project, you will work with a slightly modified version of a dataset containing information about public transport journey volume by transport type. \n",
    "\n",
    "The data has been loaded into an **AWS Redshift** database called `tfl` with a single table called `journeys`, including the following data:\n",
    "\n",
    "## tfl.journeys\n",
    "\n",
    "| Column | Definition | Data type |\n",
    "|--------|------------|-----------|\n",
    "| `month`| Month in number format, e.g., `1` equals January | `INTEGER` |\n",
    "| `year` | Year | `INTEGER` |\n",
    "| `days` | Number of days in the given month | `INTEGER` |\n",
    "| `report_date` | Date that the data was reported | `DATE` |\n",
    "| `journey_type` | Method of transport used | `VARCHAR` |\n",
    "| `journeys_millions` | Millions of journeys, measured in decimals | `FLOAT` |\n",
    "\n",
    "You will execute SQL queries to answer three questions, as listed in the instructions."
   ]
  },
  {
   "cell_type": "markdown",
   "id": "aa7715c2-7d10-4bf8-8889-2be2ca8f4908",
   "metadata": {},
   "source": [
    "## Instructions\n",
    "\n",
    "Write three SQL queries to answer the following questions:\n",
    "\n",
    "    What are the most popular transport types, measured by the total number of journeys? The output should contain two columns, 1) journey_type and 2) total_journeys_millions, and be sorted by the second column in descending order. Save the query as most_popular_transport_types.\n",
    "\n",
    "    Which five months and years were the most popular for the Emirates Airline? Return an output containing month, year, and journeys_millions, with the latter rounded to two decimal places and aliased as rounded_journeys_millions. Exclude null values and save the result as emirates_airline_popularity.\n",
    "\n",
    "    Find the five years with the lowest volume of Underground & DLR journeys, saving as least_popular_years_tube. The results should contain the columns year, journey_type, and total_journeys_millions. \n",
    "\n",
    "Three SQL cells have been created for you in the workbook. To access the AWS Redshift database, you will need to select data using the syntax FROM tfl.journeys.\n",
    "\n",
    "Note: Please also ensure that you do not change the names of the DataFrames that the three query results will be saved as - creating new cells in the workbook will rename the DataFrame (see image below). Make sure that your final solutions use the names provided: most_popular_transport_types, emirates_airline_popularity, and least_popular_years_tube.\n"
   ]
  },
  {
   "cell_type": "code",
   "execution_count": 1,
   "id": "59e4d47b-d841-4972-ab9f-d1fcf3f83e94",
   "metadata": {},
   "outputs": [],
   "source": [
    "most_popular_transport_types = \"\"\"\n",
    "SELECT journey_type, sum(journeys_millions) AS total_journeys_millions \n",
    "FROM tfl.journeys\n",
    "GROUP BY 1\n",
    "ORDER BY 2 DESC;\n",
    "\"\"\""
   ]
  },
  {
   "cell_type": "code",
   "execution_count": 2,
   "id": "2d6d81bf-3d46-4c6a-a3c0-38214bcc1bed",
   "metadata": {},
   "outputs": [],
   "source": [
    "emirates_airline_popularity = \"\"\"\n",
    "SELECT month, year, ROUND(journeys_millions, 2) AS rounded_journeys_millions\n",
    "FROM tfl.journeys\n",
    "WHERE journey_type = 'Emirates Airline' \n",
    " AND rounded_journeys_millions IS NOT NULL\n",
    "ORDER BY 3 DESC\n",
    "LIMIT 5;\n",
    "\"\"\""
   ]
  },
  {
   "cell_type": "code",
   "execution_count": 3,
   "id": "f2966b54-5112-4e08-a1f9-87590a8be287",
   "metadata": {},
   "outputs": [],
   "source": [
    "least_popular_years_tube = \"\"\"\n",
    "SELECT year, journey_type, sum(journeys_millions) as total_journeys_millions\n",
    "FROM tfl.journeys\n",
    "WHERE journey_type = 'Underground & DLR'\n",
    "GROUP BY 1, 2\n",
    "ORDER BY 3 \n",
    "LIMIT 5;\n",
    "\"\"\""
   ]
  },
  {
   "cell_type": "code",
   "execution_count": null,
   "id": "a4772abf-e28b-4b10-95c4-0358f23e9506",
   "metadata": {},
   "outputs": [],
   "source": []
  }
 ],
 "metadata": {
  "kernelspec": {
   "display_name": "Python 3 (ipykernel)",
   "language": "python",
   "name": "python3"
  },
  "language_info": {
   "codemirror_mode": {
    "name": "ipython",
    "version": 3
   },
   "file_extension": ".py",
   "mimetype": "text/x-python",
   "name": "python",
   "nbconvert_exporter": "python",
   "pygments_lexer": "ipython3",
   "version": "3.9.20"
  }
 },
 "nbformat": 4,
 "nbformat_minor": 5
}
