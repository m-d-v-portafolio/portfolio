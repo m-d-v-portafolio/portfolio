{
 "cells": [
  {
   "cell_type": "markdown",
   "metadata": {},
   "source": [
    "As a Data Engineer at an electronics e-commerce company, Voltmart, you have been requested by a peer Machine Learning team to clean the data containing the information about orders made last year. They are planning to further use this cleaned data to build a demand forecasting model. To achieve this, they have shared their requirements regarding the desired output table format.\n",
    "\n",
    "An analyst shared a parquet file called `\"orders_data.parquet\"` for you to clean and preprocess. \n",
    "\n",
    "You can see the dataset schema below along with the **cleaning requirements**:"
   ]
  },
  {
   "cell_type": "markdown",
   "metadata": {},
   "source": [
    "## `orders_data.parquet`\n",
    "\n",
    "| column | data type | description | cleaning requirements | \n",
    "|--------|-----------|-------------|-----------------------|\n",
    "| `order_date` | `timestamp` | Date and time when the order was made | _Modify: Remove orders placed between 12am and 5am (inclusive); convert from timestamp to date_ |\n",
    "| `time_of_day` | `string` | Period of the day when the order was made | _New column containing (lower bound inclusive, upper bound exclusive): \"morning\" for orders placed 5-12am, \"afternoon\" for orders placed 12-6pm, and \"evening\" for 6-12pm_ |\n",
    "| `order_id` | `long` | Order ID | _N/A_ |\n",
    "| `product` | `string` | Name of a product ordered | _Remove rows containing \"TV\" as the company has stopped selling this product; ensure all values are lowercase_ |\n",
    "| `product_ean` | `double` | Product ID | _N/A_ |\n",
    "| `category` | `string` | Broader category of a product | _Ensure all values are lowercase_ |\n",
    "| `purchase_address` | `string` | Address line where the order was made (\"House Street, City, State Zipcode\") | _N/A_ |\n",
    "| `purchase_state` | `string` | US State of the purchase address | _New column containing: the State that the purchase was ordered from_ |\n",
    "| `quantity_ordered` | `long` | Number of product units ordered | _N/A_ |\n",
    "| `price_each` | `double` | Price of a product unit | _N/A_ |\n",
    "| `cost_price` | `double` | Cost of production per product unit | _N/A_ |\n",
    "| `turnover` | `double` | Total amount paid for a product (quantity x price) | _N/A_ |\n",
    "| `margin` | `double` | Profit made by selling a product (turnover - cost) | _N/A_ |\n",
    "\n",
    "<br>"
   ]
  },
  {
   "cell_type": "markdown",
   "metadata": {},
   "source": [
    "# Necessary Prerequisites in order to run spark from a Notebook locally"
   ]
  },
  {
   "cell_type": "code",
   "execution_count": 2,
   "metadata": {},
   "outputs": [],
   "source": [
    "import findspark\n",
    "findspark.init()"
   ]
  },
  {
   "cell_type": "markdown",
   "metadata": {},
   "source": []
  },
  {
   "cell_type": "code",
   "execution_count": 3,
   "metadata": {},
   "outputs": [],
   "source": [
    "from pyspark.sql import (\n",
    "    SparkSession,\n",
    "    types,\n",
    "    functions as F,\n",
    ")\n",
    "\n",
    "spark = (\n",
    "    SparkSession\n",
    "    .builder\n",
    "    .appName('cleaning_orders_dataset_with_pyspark')\n",
    "    .getOrCreate()\n",
    ")"
   ]
  },
  {
   "cell_type": "code",
   "execution_count": 5,
   "metadata": {},
   "outputs": [
    {
     "data": {
      "text/html": [
       "<div>\n",
       "<style scoped>\n",
       "    .dataframe tbody tr th:only-of-type {\n",
       "        vertical-align: middle;\n",
       "    }\n",
       "\n",
       "    .dataframe tbody tr th {\n",
       "        vertical-align: top;\n",
       "    }\n",
       "\n",
       "    .dataframe thead th {\n",
       "        text-align: right;\n",
       "    }\n",
       "</style>\n",
       "<table border=\"1\" class=\"dataframe\">\n",
       "  <thead>\n",
       "    <tr style=\"text-align: right;\">\n",
       "      <th></th>\n",
       "      <th>order_date</th>\n",
       "      <th>order_id</th>\n",
       "      <th>product</th>\n",
       "      <th>product_id</th>\n",
       "      <th>category</th>\n",
       "      <th>purchase_address</th>\n",
       "      <th>quantity_ordered</th>\n",
       "      <th>price_each</th>\n",
       "      <th>cost_price</th>\n",
       "      <th>turnover</th>\n",
       "      <th>margin</th>\n",
       "    </tr>\n",
       "  </thead>\n",
       "  <tbody>\n",
       "    <tr>\n",
       "      <th>0</th>\n",
       "      <td>2023-01-22 21:25:00</td>\n",
       "      <td>141234</td>\n",
       "      <td>iPhone</td>\n",
       "      <td>5.638009e+12</td>\n",
       "      <td>Vêtements</td>\n",
       "      <td>944 Walnut St, Boston, MA 02215</td>\n",
       "      <td>1</td>\n",
       "      <td>700.00</td>\n",
       "      <td>231.0000</td>\n",
       "      <td>700.00</td>\n",
       "      <td>469.0000</td>\n",
       "    </tr>\n",
       "    <tr>\n",
       "      <th>1</th>\n",
       "      <td>2023-01-28 14:15:00</td>\n",
       "      <td>141235</td>\n",
       "      <td>Lightning Charging Cable</td>\n",
       "      <td>5.563320e+12</td>\n",
       "      <td>Alimentation</td>\n",
       "      <td>185 Maple St, Portland, OR 97035</td>\n",
       "      <td>1</td>\n",
       "      <td>14.95</td>\n",
       "      <td>7.4750</td>\n",
       "      <td>14.95</td>\n",
       "      <td>7.4750</td>\n",
       "    </tr>\n",
       "    <tr>\n",
       "      <th>2</th>\n",
       "      <td>2023-01-17 13:33:00</td>\n",
       "      <td>141236</td>\n",
       "      <td>Wired Headphones</td>\n",
       "      <td>2.113973e+12</td>\n",
       "      <td>Vêtements</td>\n",
       "      <td>538 Adams St, San Francisco, CA 94016</td>\n",
       "      <td>2</td>\n",
       "      <td>11.99</td>\n",
       "      <td>5.9950</td>\n",
       "      <td>23.98</td>\n",
       "      <td>11.9900</td>\n",
       "    </tr>\n",
       "    <tr>\n",
       "      <th>3</th>\n",
       "      <td>2023-01-05 20:33:00</td>\n",
       "      <td>141237</td>\n",
       "      <td>27in FHD Monitor</td>\n",
       "      <td>3.069157e+12</td>\n",
       "      <td>Sports</td>\n",
       "      <td>738 10th St, Los Angeles, CA 90001</td>\n",
       "      <td>1</td>\n",
       "      <td>149.99</td>\n",
       "      <td>97.4935</td>\n",
       "      <td>149.99</td>\n",
       "      <td>52.4965</td>\n",
       "    </tr>\n",
       "    <tr>\n",
       "      <th>4</th>\n",
       "      <td>2023-01-25 11:59:00</td>\n",
       "      <td>141238</td>\n",
       "      <td>Wired Headphones</td>\n",
       "      <td>9.692681e+12</td>\n",
       "      <td>Électronique</td>\n",
       "      <td>387 10th St, Austin, TX 73301</td>\n",
       "      <td>1</td>\n",
       "      <td>11.99</td>\n",
       "      <td>5.9950</td>\n",
       "      <td>11.99</td>\n",
       "      <td>5.9950</td>\n",
       "    </tr>\n",
       "  </tbody>\n",
       "</table>\n",
       "</div>"
      ],
      "text/plain": [
       "           order_date  order_id                   product    product_id  \\\n",
       "0 2023-01-22 21:25:00    141234                    iPhone  5.638009e+12   \n",
       "1 2023-01-28 14:15:00    141235  Lightning Charging Cable  5.563320e+12   \n",
       "2 2023-01-17 13:33:00    141236          Wired Headphones  2.113973e+12   \n",
       "3 2023-01-05 20:33:00    141237          27in FHD Monitor  3.069157e+12   \n",
       "4 2023-01-25 11:59:00    141238          Wired Headphones  9.692681e+12   \n",
       "\n",
       "       category                       purchase_address  quantity_ordered  \\\n",
       "0     Vêtements        944 Walnut St, Boston, MA 02215                 1   \n",
       "1  Alimentation       185 Maple St, Portland, OR 97035                 1   \n",
       "2     Vêtements  538 Adams St, San Francisco, CA 94016                 2   \n",
       "3        Sports     738 10th St, Los Angeles, CA 90001                 1   \n",
       "4  Électronique          387 10th St, Austin, TX 73301                 1   \n",
       "\n",
       "   price_each  cost_price  turnover    margin  \n",
       "0      700.00    231.0000    700.00  469.0000  \n",
       "1       14.95      7.4750     14.95    7.4750  \n",
       "2       11.99      5.9950     23.98   11.9900  \n",
       "3      149.99     97.4935    149.99   52.4965  \n",
       "4       11.99      5.9950     11.99    5.9950  "
      ]
     },
     "execution_count": 5,
     "metadata": {},
     "output_type": "execute_result"
    }
   ],
   "source": [
    "orders_data = spark.read.parquet('orders_data.parquet')\n",
    "orders_data.toPandas().head()"
   ]
  },
  {
   "cell_type": "markdown",
   "metadata": {},
   "source": [
    "# 1.- Addressing required changes on the order_date column"
   ]
  },
  {
   "cell_type": "code",
   "execution_count": 6,
   "metadata": {},
   "outputs": [
    {
     "name": "stdout",
     "output_type": "stream",
     "text": [
      "+-------------------+--------+--------------------+-----------------+------------+--------------------+----------------+----------+------------------+--------+--------+--------+\n",
      "|         order_date|order_id|             product|       product_id|    category|    purchase_address|quantity_ordered|price_each|        cost_price|turnover|  margin|    date|\n",
      "+-------------------+--------+--------------------+-----------------+------------+--------------------+----------------+----------+------------------+--------+--------+--------+\n",
      "|2023-01-22 21:25:00|  141234|              iPhone|5.638008983335E12|   Vêtements|944 Walnut St, Bo...|               1|     700.0|             231.0|   700.0|   469.0|21:25:00|\n",
      "|2023-01-28 14:15:00|  141235|Lightning Chargin...|5.563319511488E12|Alimentation|185 Maple St, Por...|               1|     14.95|             7.475|   14.95|   7.475|14:15:00|\n",
      "|2023-01-17 13:33:00|  141236|    Wired Headphones| 2.11397339522E12|   Vêtements|538 Adams St, San...|               2|     11.99|             5.995|   23.98|   11.99|13:33:00|\n",
      "|2023-01-05 20:33:00|  141237|    27in FHD Monitor|3.069156759167E12|      Sports|738 10th St, Los ...|               1|    149.99|           97.4935|  149.99| 52.4965|20:33:00|\n",
      "|2023-01-25 11:59:00|  141238|    Wired Headphones|9.692680938163E12|Électronique|387 10th St, Aust...|               1|     11.99|             5.995|   11.99|   5.995|11:59:00|\n",
      "|2023-01-29 20:22:00|  141239|AAA Batteries (4-...|2.953868554188E12|Alimentation|775 Willow St, Sa...|               1|      2.99|             1.495|    2.99|   1.495|20:22:00|\n",
      "|2023-01-26 12:16:00|  141240|27in 4K Gaming Mo...|5.173670800988E12|   Vêtements|979 Park St, Los ...|               1|    389.99|128.69670000000002|  389.99|261.2933|12:16:00|\n",
      "|2023-01-05 12:04:00|  141241|USB-C Charging Cable|8.051736777568E12|   Vêtements|181 6th St, San F...|               1|     11.95|             5.975|   11.95|   5.975|12:04:00|\n",
      "|2023-01-01 10:30:00|  141242|Bose SoundSport H...|1.508418177978E12|Électronique|867 Willow St, Lo...|               1|     99.99|            49.995|   99.99|  49.995|10:30:00|\n",
      "|2023-01-22 21:20:00|  141243|Apple Airpods Hea...| 1.38634421159E12|Électronique|657 Johnson St, S...|               1|     150.0|              97.5|   150.0|    52.5|21:20:00|\n",
      "|2023-01-07 11:29:00|  141244|Apple Airpods Hea...|4.332898830865E12|   Vêtements|492 Walnut St, Sa...|               1|     150.0|              97.5|   150.0|    52.5|11:29:00|\n",
      "|2023-01-31 10:12:00|  141245|  Macbook Pro Laptop|1.169379570345E12|   Vêtements|322 6th St, San F...|               1|    1700.0|             561.0|  1700.0|  1139.0|10:12:00|\n",
      "|2023-01-09 18:57:00|  141246|AAA Batteries (4-...|4.436184749366E12|   Vêtements|618 7th St, Los A...|               3|      2.99|             1.495|    8.97|   4.485|18:57:00|\n",
      "|2023-01-25 19:19:00|  141247|    27in FHD Monitor|7.313825995563E12|   Vêtements|512 Wilson St, Sa...|               1|    149.99|           97.4935|  149.99| 52.4965|19:19:00|\n",
      "|2023-01-03 21:54:00|  141248|       Flatscreen TV| 4.06275646306E12|Électronique|363 Spruce St, Au...|               1|     300.0|              99.0|   300.0|   201.0|21:54:00|\n",
      "|2023-01-05 17:20:00|  141249|    27in FHD Monitor|9.643428300795E12|Alimentation|440 Cedar St, Por...|               1|    149.99|           97.4935|  149.99| 52.4965|17:20:00|\n",
      "|2023-01-10 11:20:00|  141250|     Vareebadd Phone|6.721780072847E12|Alimentation|471 Center St, Lo...|               1|     400.0|             132.0|   400.0|   268.0|11:20:00|\n",
      "|2023-01-24 08:13:00|  141251|Apple Airpods Hea...|2.700099961823E12|Alimentation|414 Walnut St, Bo...|               1|     150.0|              97.5|   150.0|    52.5|08:13:00|\n",
      "|2023-01-30 09:28:00|  141252|USB-C Charging Cable|3.692435232121E12|      Sports|220 9th St, Los A...|               1|     11.95|             5.975|   11.95|   5.975|09:28:00|\n",
      "|2023-01-17 00:09:00|  141253|AA Batteries (4-p...|6.741495725758E12|Alimentation|385 11th St, Atla...|               1|      3.84|              1.92|    3.84|    1.92|00:09:00|\n",
      "+-------------------+--------+--------------------+-----------------+------------+--------------------+----------------+----------+------------------+--------+--------+--------+\n",
      "only showing top 20 rows\n",
      "\n"
     ]
    }
   ],
   "source": [
    "# First I will add an extra column to be able to filter order_date more easily\n",
    "orders_data_w_date_column = orders_data.withColumn('date', F.date_format(orders_data.order_date, 'HH:mm:ss'))\n",
    "\n",
    "# Printing to see the result\n",
    "orders_data_w_date_column.show()"
   ]
  },
  {
   "cell_type": "code",
   "execution_count": 7,
   "metadata": {},
   "outputs": [
    {
     "name": "stdout",
     "output_type": "stream",
     "text": [
      "+----------+--------+--------------------+-----------------+------------+--------------------+----------------+----------+------------------+--------+--------+--------+\n",
      "|order_date|order_id|             product|       product_id|    category|    purchase_address|quantity_ordered|price_each|        cost_price|turnover|  margin|    date|\n",
      "+----------+--------+--------------------+-----------------+------------+--------------------+----------------+----------+------------------+--------+--------+--------+\n",
      "|2023-01-22|  141234|              iPhone|5.638008983335E12|   Vêtements|944 Walnut St, Bo...|               1|     700.0|             231.0|   700.0|   469.0|21:25:00|\n",
      "|2023-01-28|  141235|Lightning Chargin...|5.563319511488E12|Alimentation|185 Maple St, Por...|               1|     14.95|             7.475|   14.95|   7.475|14:15:00|\n",
      "|2023-01-17|  141236|    Wired Headphones| 2.11397339522E12|   Vêtements|538 Adams St, San...|               2|     11.99|             5.995|   23.98|   11.99|13:33:00|\n",
      "|2023-01-05|  141237|    27in FHD Monitor|3.069156759167E12|      Sports|738 10th St, Los ...|               1|    149.99|           97.4935|  149.99| 52.4965|20:33:00|\n",
      "|2023-01-25|  141238|    Wired Headphones|9.692680938163E12|Électronique|387 10th St, Aust...|               1|     11.99|             5.995|   11.99|   5.995|11:59:00|\n",
      "|2023-01-29|  141239|AAA Batteries (4-...|2.953868554188E12|Alimentation|775 Willow St, Sa...|               1|      2.99|             1.495|    2.99|   1.495|20:22:00|\n",
      "|2023-01-26|  141240|27in 4K Gaming Mo...|5.173670800988E12|   Vêtements|979 Park St, Los ...|               1|    389.99|128.69670000000002|  389.99|261.2933|12:16:00|\n",
      "|2023-01-05|  141241|USB-C Charging Cable|8.051736777568E12|   Vêtements|181 6th St, San F...|               1|     11.95|             5.975|   11.95|   5.975|12:04:00|\n",
      "|2023-01-01|  141242|Bose SoundSport H...|1.508418177978E12|Électronique|867 Willow St, Lo...|               1|     99.99|            49.995|   99.99|  49.995|10:30:00|\n",
      "|2023-01-22|  141243|Apple Airpods Hea...| 1.38634421159E12|Électronique|657 Johnson St, S...|               1|     150.0|              97.5|   150.0|    52.5|21:20:00|\n",
      "|2023-01-07|  141244|Apple Airpods Hea...|4.332898830865E12|   Vêtements|492 Walnut St, Sa...|               1|     150.0|              97.5|   150.0|    52.5|11:29:00|\n",
      "|2023-01-31|  141245|  Macbook Pro Laptop|1.169379570345E12|   Vêtements|322 6th St, San F...|               1|    1700.0|             561.0|  1700.0|  1139.0|10:12:00|\n",
      "|2023-01-09|  141246|AAA Batteries (4-...|4.436184749366E12|   Vêtements|618 7th St, Los A...|               3|      2.99|             1.495|    8.97|   4.485|18:57:00|\n",
      "|2023-01-25|  141247|    27in FHD Monitor|7.313825995563E12|   Vêtements|512 Wilson St, Sa...|               1|    149.99|           97.4935|  149.99| 52.4965|19:19:00|\n",
      "|2023-01-03|  141248|       Flatscreen TV| 4.06275646306E12|Électronique|363 Spruce St, Au...|               1|     300.0|              99.0|   300.0|   201.0|21:54:00|\n",
      "|2023-01-05|  141249|    27in FHD Monitor|9.643428300795E12|Alimentation|440 Cedar St, Por...|               1|    149.99|           97.4935|  149.99| 52.4965|17:20:00|\n",
      "|2023-01-10|  141250|     Vareebadd Phone|6.721780072847E12|Alimentation|471 Center St, Lo...|               1|     400.0|             132.0|   400.0|   268.0|11:20:00|\n",
      "|2023-01-24|  141251|Apple Airpods Hea...|2.700099961823E12|Alimentation|414 Walnut St, Bo...|               1|     150.0|              97.5|   150.0|    52.5|08:13:00|\n",
      "|2023-01-30|  141252|USB-C Charging Cable|3.692435232121E12|      Sports|220 9th St, Los A...|               1|     11.95|             5.975|   11.95|   5.975|09:28:00|\n",
      "|2023-01-08|  141254|AAA Batteries (4-...|8.219536039183E12|Électronique|238 Sunset St, Se...|               1|      2.99|             1.495|    2.99|   1.495|11:51:00|\n",
      "+----------+--------+--------------------+-----------------+------------+--------------------+----------------+----------+------------------+--------+--------+--------+\n",
      "only showing top 20 rows\n",
      "\n",
      "root\n",
      " |-- order_date: date (nullable = true)\n",
      " |-- order_id: long (nullable = true)\n",
      " |-- product: string (nullable = true)\n",
      " |-- product_id: double (nullable = true)\n",
      " |-- category: string (nullable = true)\n",
      " |-- purchase_address: string (nullable = true)\n",
      " |-- quantity_ordered: long (nullable = true)\n",
      " |-- price_each: double (nullable = true)\n",
      " |-- cost_price: double (nullable = true)\n",
      " |-- turnover: double (nullable = true)\n",
      " |-- margin: double (nullable = true)\n",
      " |-- date: string (nullable = true)\n",
      "\n"
     ]
    }
   ],
   "source": [
    "# Now I will filter out orders placed between 12am and 5am (inclusive)\n",
    "orders_data_filtered = orders_data_w_date_column.filter(F.col('date') > '05:00:00')\n",
    "\n",
    "# Converting order_date to date\n",
    "orders_data_filtered = orders_data_filtered.withColumn('order_date', F.to_date('order_date'))\n",
    "\n",
    "# Printing to see results\n",
    "orders_data_filtered.show()\n",
    "orders_data_filtered.printSchema()"
   ]
  },
  {
   "cell_type": "markdown",
   "metadata": {},
   "source": [
    "# 2.- Creating 'time_of_day' column"
   ]
  },
  {
   "cell_type": "code",
   "execution_count": 8,
   "metadata": {},
   "outputs": [
    {
     "name": "stdout",
     "output_type": "stream",
     "text": [
      "+----------+--------+--------------------+-----------------+------------+--------------------+----------------+----------+------------------+--------+--------+-----------+\n",
      "|order_date|order_id|             product|       product_id|    category|    purchase_address|quantity_ordered|price_each|        cost_price|turnover|  margin|time_of_day|\n",
      "+----------+--------+--------------------+-----------------+------------+--------------------+----------------+----------+------------------+--------+--------+-----------+\n",
      "|2023-01-22|  141234|              iPhone|5.638008983335E12|   Vêtements|944 Walnut St, Bo...|               1|     700.0|             231.0|   700.0|   469.0|    evening|\n",
      "|2023-01-28|  141235|Lightning Chargin...|5.563319511488E12|Alimentation|185 Maple St, Por...|               1|     14.95|             7.475|   14.95|   7.475|  afternoon|\n",
      "|2023-01-17|  141236|    Wired Headphones| 2.11397339522E12|   Vêtements|538 Adams St, San...|               2|     11.99|             5.995|   23.98|   11.99|  afternoon|\n",
      "|2023-01-05|  141237|    27in FHD Monitor|3.069156759167E12|      Sports|738 10th St, Los ...|               1|    149.99|           97.4935|  149.99| 52.4965|    evening|\n",
      "|2023-01-25|  141238|    Wired Headphones|9.692680938163E12|Électronique|387 10th St, Aust...|               1|     11.99|             5.995|   11.99|   5.995|    morning|\n",
      "|2023-01-29|  141239|AAA Batteries (4-...|2.953868554188E12|Alimentation|775 Willow St, Sa...|               1|      2.99|             1.495|    2.99|   1.495|    evening|\n",
      "|2023-01-26|  141240|27in 4K Gaming Mo...|5.173670800988E12|   Vêtements|979 Park St, Los ...|               1|    389.99|128.69670000000002|  389.99|261.2933|  afternoon|\n",
      "|2023-01-05|  141241|USB-C Charging Cable|8.051736777568E12|   Vêtements|181 6th St, San F...|               1|     11.95|             5.975|   11.95|   5.975|  afternoon|\n",
      "|2023-01-01|  141242|Bose SoundSport H...|1.508418177978E12|Électronique|867 Willow St, Lo...|               1|     99.99|            49.995|   99.99|  49.995|    morning|\n",
      "|2023-01-22|  141243|Apple Airpods Hea...| 1.38634421159E12|Électronique|657 Johnson St, S...|               1|     150.0|              97.5|   150.0|    52.5|    evening|\n",
      "|2023-01-07|  141244|Apple Airpods Hea...|4.332898830865E12|   Vêtements|492 Walnut St, Sa...|               1|     150.0|              97.5|   150.0|    52.5|    morning|\n",
      "|2023-01-31|  141245|  Macbook Pro Laptop|1.169379570345E12|   Vêtements|322 6th St, San F...|               1|    1700.0|             561.0|  1700.0|  1139.0|    morning|\n",
      "|2023-01-09|  141246|AAA Batteries (4-...|4.436184749366E12|   Vêtements|618 7th St, Los A...|               3|      2.99|             1.495|    8.97|   4.485|    evening|\n",
      "|2023-01-25|  141247|    27in FHD Monitor|7.313825995563E12|   Vêtements|512 Wilson St, Sa...|               1|    149.99|           97.4935|  149.99| 52.4965|    evening|\n",
      "|2023-01-03|  141248|       Flatscreen TV| 4.06275646306E12|Électronique|363 Spruce St, Au...|               1|     300.0|              99.0|   300.0|   201.0|    evening|\n",
      "|2023-01-05|  141249|    27in FHD Monitor|9.643428300795E12|Alimentation|440 Cedar St, Por...|               1|    149.99|           97.4935|  149.99| 52.4965|  afternoon|\n",
      "|2023-01-10|  141250|     Vareebadd Phone|6.721780072847E12|Alimentation|471 Center St, Lo...|               1|     400.0|             132.0|   400.0|   268.0|    morning|\n",
      "|2023-01-24|  141251|Apple Airpods Hea...|2.700099961823E12|Alimentation|414 Walnut St, Bo...|               1|     150.0|              97.5|   150.0|    52.5|    morning|\n",
      "|2023-01-30|  141252|USB-C Charging Cable|3.692435232121E12|      Sports|220 9th St, Los A...|               1|     11.95|             5.975|   11.95|   5.975|    morning|\n",
      "|2023-01-08|  141254|AAA Batteries (4-...|8.219536039183E12|Électronique|238 Sunset St, Se...|               1|      2.99|             1.495|    2.99|   1.495|    morning|\n",
      "+----------+--------+--------------------+-----------------+------------+--------------------+----------------+----------+------------------+--------+--------+-----------+\n",
      "only showing top 20 rows\n",
      "\n"
     ]
    }
   ],
   "source": [
    "# Creating new column and dropping 'date'\n",
    "\n",
    "orders_data_time = orders_data_filtered.withColumn('time_of_day', \n",
    "                                F.when((F.col('date') >= '06:00:00') & (F.col('date') < '12:00:00'), 'morning')\n",
    "                                 .when((F.col('date') >= '12:00:00') & (F.col('date') < '18:00:00'), 'afternoon')\n",
    "                                 .otherwise('evening')).drop('date')\n",
    "\n",
    "# Printing to see results\n",
    "orders_data_time.show()"
   ]
  },
  {
   "cell_type": "markdown",
   "metadata": {},
   "source": [
    "# 3.- Removing 'TV' from 'product' column"
   ]
  },
  {
   "cell_type": "code",
   "execution_count": 9,
   "metadata": {},
   "outputs": [
    {
     "name": "stdout",
     "output_type": "stream",
     "text": [
      "+----------+--------+--------------------+-----------------+------------+--------------------+----------------+----------+------------------+--------+--------+-----------+\n",
      "|order_date|order_id|             product|       product_id|    category|    purchase_address|quantity_ordered|price_each|        cost_price|turnover|  margin|time_of_day|\n",
      "+----------+--------+--------------------+-----------------+------------+--------------------+----------------+----------+------------------+--------+--------+-----------+\n",
      "|2023-01-22|  141234|              iphone|5.638008983335E12|   Vêtements|944 Walnut St, Bo...|               1|     700.0|             231.0|   700.0|   469.0|    evening|\n",
      "|2023-01-28|  141235|lightning chargin...|5.563319511488E12|Alimentation|185 Maple St, Por...|               1|     14.95|             7.475|   14.95|   7.475|  afternoon|\n",
      "|2023-01-17|  141236|    wired headphones| 2.11397339522E12|   Vêtements|538 Adams St, San...|               2|     11.99|             5.995|   23.98|   11.99|  afternoon|\n",
      "|2023-01-05|  141237|    27in fhd monitor|3.069156759167E12|      Sports|738 10th St, Los ...|               1|    149.99|           97.4935|  149.99| 52.4965|    evening|\n",
      "|2023-01-25|  141238|    wired headphones|9.692680938163E12|Électronique|387 10th St, Aust...|               1|     11.99|             5.995|   11.99|   5.995|    morning|\n",
      "|2023-01-29|  141239|aaa batteries (4-...|2.953868554188E12|Alimentation|775 Willow St, Sa...|               1|      2.99|             1.495|    2.99|   1.495|    evening|\n",
      "|2023-01-26|  141240|27in 4k gaming mo...|5.173670800988E12|   Vêtements|979 Park St, Los ...|               1|    389.99|128.69670000000002|  389.99|261.2933|  afternoon|\n",
      "|2023-01-05|  141241|usb-c charging cable|8.051736777568E12|   Vêtements|181 6th St, San F...|               1|     11.95|             5.975|   11.95|   5.975|  afternoon|\n",
      "|2023-01-01|  141242|bose soundsport h...|1.508418177978E12|Électronique|867 Willow St, Lo...|               1|     99.99|            49.995|   99.99|  49.995|    morning|\n",
      "|2023-01-22|  141243|apple airpods hea...| 1.38634421159E12|Électronique|657 Johnson St, S...|               1|     150.0|              97.5|   150.0|    52.5|    evening|\n",
      "|2023-01-07|  141244|apple airpods hea...|4.332898830865E12|   Vêtements|492 Walnut St, Sa...|               1|     150.0|              97.5|   150.0|    52.5|    morning|\n",
      "|2023-01-31|  141245|  macbook pro laptop|1.169379570345E12|   Vêtements|322 6th St, San F...|               1|    1700.0|             561.0|  1700.0|  1139.0|    morning|\n",
      "|2023-01-09|  141246|aaa batteries (4-...|4.436184749366E12|   Vêtements|618 7th St, Los A...|               3|      2.99|             1.495|    8.97|   4.485|    evening|\n",
      "|2023-01-25|  141247|    27in fhd monitor|7.313825995563E12|   Vêtements|512 Wilson St, Sa...|               1|    149.99|           97.4935|  149.99| 52.4965|    evening|\n",
      "|2023-01-05|  141249|    27in fhd monitor|9.643428300795E12|Alimentation|440 Cedar St, Por...|               1|    149.99|           97.4935|  149.99| 52.4965|  afternoon|\n",
      "|2023-01-10|  141250|     vareebadd phone|6.721780072847E12|Alimentation|471 Center St, Lo...|               1|     400.0|             132.0|   400.0|   268.0|    morning|\n",
      "|2023-01-24|  141251|apple airpods hea...|2.700099961823E12|Alimentation|414 Walnut St, Bo...|               1|     150.0|              97.5|   150.0|    52.5|    morning|\n",
      "|2023-01-30|  141252|usb-c charging cable|3.692435232121E12|      Sports|220 9th St, Los A...|               1|     11.95|             5.975|   11.95|   5.975|    morning|\n",
      "|2023-01-08|  141254|aaa batteries (4-...|8.219536039183E12|Électronique|238 Sunset St, Se...|               1|      2.99|             1.495|    2.99|   1.495|    morning|\n",
      "|2023-01-09|  141255|usb-c charging cable|7.739134543383E12|Alimentation|764 11th St, Los ...|               1|     11.95|             5.975|   11.95|   5.975|    evening|\n",
      "+----------+--------+--------------------+-----------------+------------+--------------------+----------------+----------+------------------+--------+--------+-----------+\n",
      "only showing top 20 rows\n",
      "\n"
     ]
    }
   ],
   "source": [
    "# Making all the 'product' column lowercase\n",
    "orders_data_time = orders_data_time.withColumn('product', F.lower('product'))\n",
    "\n",
    "# Filtering out TV\n",
    "orders_no_tv = orders_data_time.filter(~(orders_data_time.product.contains('tv')))\n",
    "\n",
    "# Printing to see results\n",
    "orders_no_tv.show()"
   ]
  },
  {
   "cell_type": "markdown",
   "metadata": {},
   "source": [
    "# 4.- Making all values of 'category' lowercase"
   ]
  },
  {
   "cell_type": "code",
   "execution_count": 10,
   "metadata": {},
   "outputs": [
    {
     "name": "stdout",
     "output_type": "stream",
     "text": [
      "+----------+--------+--------------------+-----------------+------------+--------------------+----------------+----------+------------------+--------+--------+-----------+\n",
      "|order_date|order_id|             product|       product_id|    category|    purchase_address|quantity_ordered|price_each|        cost_price|turnover|  margin|time_of_day|\n",
      "+----------+--------+--------------------+-----------------+------------+--------------------+----------------+----------+------------------+--------+--------+-----------+\n",
      "|2023-01-22|  141234|              iphone|5.638008983335E12|   vêtements|944 Walnut St, Bo...|               1|     700.0|             231.0|   700.0|   469.0|    evening|\n",
      "|2023-01-28|  141235|lightning chargin...|5.563319511488E12|alimentation|185 Maple St, Por...|               1|     14.95|             7.475|   14.95|   7.475|  afternoon|\n",
      "|2023-01-17|  141236|    wired headphones| 2.11397339522E12|   vêtements|538 Adams St, San...|               2|     11.99|             5.995|   23.98|   11.99|  afternoon|\n",
      "|2023-01-05|  141237|    27in fhd monitor|3.069156759167E12|      sports|738 10th St, Los ...|               1|    149.99|           97.4935|  149.99| 52.4965|    evening|\n",
      "|2023-01-25|  141238|    wired headphones|9.692680938163E12|électronique|387 10th St, Aust...|               1|     11.99|             5.995|   11.99|   5.995|    morning|\n",
      "|2023-01-29|  141239|aaa batteries (4-...|2.953868554188E12|alimentation|775 Willow St, Sa...|               1|      2.99|             1.495|    2.99|   1.495|    evening|\n",
      "|2023-01-26|  141240|27in 4k gaming mo...|5.173670800988E12|   vêtements|979 Park St, Los ...|               1|    389.99|128.69670000000002|  389.99|261.2933|  afternoon|\n",
      "|2023-01-05|  141241|usb-c charging cable|8.051736777568E12|   vêtements|181 6th St, San F...|               1|     11.95|             5.975|   11.95|   5.975|  afternoon|\n",
      "|2023-01-01|  141242|bose soundsport h...|1.508418177978E12|électronique|867 Willow St, Lo...|               1|     99.99|            49.995|   99.99|  49.995|    morning|\n",
      "|2023-01-22|  141243|apple airpods hea...| 1.38634421159E12|électronique|657 Johnson St, S...|               1|     150.0|              97.5|   150.0|    52.5|    evening|\n",
      "|2023-01-07|  141244|apple airpods hea...|4.332898830865E12|   vêtements|492 Walnut St, Sa...|               1|     150.0|              97.5|   150.0|    52.5|    morning|\n",
      "|2023-01-31|  141245|  macbook pro laptop|1.169379570345E12|   vêtements|322 6th St, San F...|               1|    1700.0|             561.0|  1700.0|  1139.0|    morning|\n",
      "|2023-01-09|  141246|aaa batteries (4-...|4.436184749366E12|   vêtements|618 7th St, Los A...|               3|      2.99|             1.495|    8.97|   4.485|    evening|\n",
      "|2023-01-25|  141247|    27in fhd monitor|7.313825995563E12|   vêtements|512 Wilson St, Sa...|               1|    149.99|           97.4935|  149.99| 52.4965|    evening|\n",
      "|2023-01-05|  141249|    27in fhd monitor|9.643428300795E12|alimentation|440 Cedar St, Por...|               1|    149.99|           97.4935|  149.99| 52.4965|  afternoon|\n",
      "|2023-01-10|  141250|     vareebadd phone|6.721780072847E12|alimentation|471 Center St, Lo...|               1|     400.0|             132.0|   400.0|   268.0|    morning|\n",
      "|2023-01-24|  141251|apple airpods hea...|2.700099961823E12|alimentation|414 Walnut St, Bo...|               1|     150.0|              97.5|   150.0|    52.5|    morning|\n",
      "|2023-01-30|  141252|usb-c charging cable|3.692435232121E12|      sports|220 9th St, Los A...|               1|     11.95|             5.975|   11.95|   5.975|    morning|\n",
      "|2023-01-08|  141254|aaa batteries (4-...|8.219536039183E12|électronique|238 Sunset St, Se...|               1|      2.99|             1.495|    2.99|   1.495|    morning|\n",
      "|2023-01-09|  141255|usb-c charging cable|7.739134543383E12|alimentation|764 11th St, Los ...|               1|     11.95|             5.975|   11.95|   5.975|    evening|\n",
      "+----------+--------+--------------------+-----------------+------------+--------------------+----------------+----------+------------------+--------+--------+-----------+\n",
      "only showing top 20 rows\n",
      "\n"
     ]
    }
   ],
   "source": [
    "orders_no_tv = orders_no_tv.withColumn('category', F.lower('category'))\n",
    "\n",
    "# Printing results\n",
    "orders_no_tv.show()"
   ]
  },
  {
   "cell_type": "markdown",
   "metadata": {},
   "source": [
    "# 5.- Creating 'purchase_state' column"
   ]
  },
  {
   "cell_type": "code",
   "execution_count": 11,
   "metadata": {},
   "outputs": [
    {
     "name": "stdout",
     "output_type": "stream",
     "text": [
      "+----------+--------+--------------------+-----------------+------------+--------------------+----------------+----------+------------------+--------+--------+-----------+--------------+\n",
      "|order_date|order_id|             product|       product_id|    category|    purchase_address|quantity_ordered|price_each|        cost_price|turnover|  margin|time_of_day|purchase_state|\n",
      "+----------+--------+--------------------+-----------------+------------+--------------------+----------------+----------+------------------+--------+--------+-----------+--------------+\n",
      "|2023-01-22|  141234|              iphone|5.638008983335E12|   vêtements|944 Walnut St, Bo...|               1|     700.0|             231.0|   700.0|   469.0|    evening|            MA|\n",
      "|2023-01-28|  141235|lightning chargin...|5.563319511488E12|alimentation|185 Maple St, Por...|               1|     14.95|             7.475|   14.95|   7.475|  afternoon|            OR|\n",
      "|2023-01-17|  141236|    wired headphones| 2.11397339522E12|   vêtements|538 Adams St, San...|               2|     11.99|             5.995|   23.98|   11.99|  afternoon|            CA|\n",
      "|2023-01-05|  141237|    27in fhd monitor|3.069156759167E12|      sports|738 10th St, Los ...|               1|    149.99|           97.4935|  149.99| 52.4965|    evening|            CA|\n",
      "|2023-01-25|  141238|    wired headphones|9.692680938163E12|électronique|387 10th St, Aust...|               1|     11.99|             5.995|   11.99|   5.995|    morning|            TX|\n",
      "|2023-01-29|  141239|aaa batteries (4-...|2.953868554188E12|alimentation|775 Willow St, Sa...|               1|      2.99|             1.495|    2.99|   1.495|    evening|            CA|\n",
      "|2023-01-26|  141240|27in 4k gaming mo...|5.173670800988E12|   vêtements|979 Park St, Los ...|               1|    389.99|128.69670000000002|  389.99|261.2933|  afternoon|            CA|\n",
      "|2023-01-05|  141241|usb-c charging cable|8.051736777568E12|   vêtements|181 6th St, San F...|               1|     11.95|             5.975|   11.95|   5.975|  afternoon|            CA|\n",
      "|2023-01-01|  141242|bose soundsport h...|1.508418177978E12|électronique|867 Willow St, Lo...|               1|     99.99|            49.995|   99.99|  49.995|    morning|            CA|\n",
      "|2023-01-22|  141243|apple airpods hea...| 1.38634421159E12|électronique|657 Johnson St, S...|               1|     150.0|              97.5|   150.0|    52.5|    evening|            CA|\n",
      "|2023-01-07|  141244|apple airpods hea...|4.332898830865E12|   vêtements|492 Walnut St, Sa...|               1|     150.0|              97.5|   150.0|    52.5|    morning|            CA|\n",
      "|2023-01-31|  141245|  macbook pro laptop|1.169379570345E12|   vêtements|322 6th St, San F...|               1|    1700.0|             561.0|  1700.0|  1139.0|    morning|            CA|\n",
      "|2023-01-09|  141246|aaa batteries (4-...|4.436184749366E12|   vêtements|618 7th St, Los A...|               3|      2.99|             1.495|    8.97|   4.485|    evening|            CA|\n",
      "|2023-01-25|  141247|    27in fhd monitor|7.313825995563E12|   vêtements|512 Wilson St, Sa...|               1|    149.99|           97.4935|  149.99| 52.4965|    evening|            CA|\n",
      "|2023-01-05|  141249|    27in fhd monitor|9.643428300795E12|alimentation|440 Cedar St, Por...|               1|    149.99|           97.4935|  149.99| 52.4965|  afternoon|            OR|\n",
      "|2023-01-10|  141250|     vareebadd phone|6.721780072847E12|alimentation|471 Center St, Lo...|               1|     400.0|             132.0|   400.0|   268.0|    morning|            CA|\n",
      "|2023-01-24|  141251|apple airpods hea...|2.700099961823E12|alimentation|414 Walnut St, Bo...|               1|     150.0|              97.5|   150.0|    52.5|    morning|            MA|\n",
      "|2023-01-30|  141252|usb-c charging cable|3.692435232121E12|      sports|220 9th St, Los A...|               1|     11.95|             5.975|   11.95|   5.975|    morning|            CA|\n",
      "|2023-01-08|  141254|aaa batteries (4-...|8.219536039183E12|électronique|238 Sunset St, Se...|               1|      2.99|             1.495|    2.99|   1.495|    morning|            WA|\n",
      "|2023-01-09|  141255|usb-c charging cable|7.739134543383E12|alimentation|764 11th St, Los ...|               1|     11.95|             5.975|   11.95|   5.975|    evening|            CA|\n",
      "+----------+--------+--------------------+-----------------+------------+--------------------+----------------+----------+------------------+--------+--------+-----------+--------------+\n",
      "only showing top 20 rows\n",
      "\n"
     ]
    }
   ],
   "source": [
    "# Will create new column 'purchase_state' by spliting and trimming to get read of unwanted whitespace\n",
    "final_df = orders_no_tv.withColumn('purchase_state', F.trim(F.split(orders_no_tv.purchase_address, ',')[2]))\n",
    "\n",
    "# Will update column 'purchase_state' to only maintain state\n",
    "final_df = final_df.withColumn('purchase_state', F.split(final_df.purchase_state, ' ')[0])\n",
    "\n",
    "# Printing the result\n",
    "final_df.show()"
   ]
  },
  {
   "cell_type": "markdown",
   "metadata": {},
   "source": [
    "# 6.- Saving to 'orders_data_clean.parquet' file"
   ]
  },
  {
   "cell_type": "code",
   "execution_count": null,
   "metadata": {},
   "outputs": [],
   "source": [
    "final_df.write.mode('overwrite').parquet('orders_data_clean.parquet')"
   ]
  }
 ],
 "metadata": {
  "kernelspec": {
   "display_name": "Python 3",
   "language": "python",
   "name": "python3"
  },
  "language_info": {
   "codemirror_mode": {
    "name": "ipython",
    "version": 3
   },
   "file_extension": ".py",
   "mimetype": "text/x-python",
   "name": "python",
   "nbconvert_exporter": "python",
   "pygments_lexer": "ipython3",
   "version": "3.11.9"
  }
 },
 "nbformat": 4,
 "nbformat_minor": 2
}
